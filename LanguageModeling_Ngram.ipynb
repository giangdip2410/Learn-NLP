{
  "nbformat": 4,
  "nbformat_minor": 0,
  "metadata": {
    "colab": {
      "name": "LanguageModeling_Ngram.ipynb",
      "provenance": [],
      "collapsed_sections": [],
      "include_colab_link": true
    },
    "kernelspec": {
      "name": "python3",
      "display_name": "Python 3"
    }
  },
  "cells": [
    {
      "cell_type": "markdown",
      "metadata": {
        "id": "view-in-github",
        "colab_type": "text"
      },
      "source": [
        "<a href=\"https://colab.research.google.com/github/giangdip2410/Learn-NLP/blob/master/LanguageModeling_Ngram.ipynb\" target=\"_parent\"><img src=\"https://colab.research.google.com/assets/colab-badge.svg\" alt=\"Open In Colab\"/></a>"
      ]
    },
    {
      "cell_type": "code",
      "metadata": {
        "id": "FFkw9E3JET-Z",
        "colab_type": "code",
        "outputId": "a2a1ba72-776f-4bc7-a18e-4434a4ec8954",
        "colab": {
          "base_uri": "https://localhost:8080/",
          "height": 68
        }
      },
      "source": [
        "import nltk\n",
        "from nltk.corpus import reuters\n",
        "from nltk import bigrams, trigrams\n",
        "from collections import Counter, defaultdict\n",
        "\n",
        "nltk.download('reuters')\n",
        "nltk.download('punkt')\n",
        "# Create a placeholder for model\n",
        "model = defaultdict(lambda: defaultdict(lambda: 0))\n",
        "\n"
      ],
      "execution_count": 0,
      "outputs": [
        {
          "output_type": "stream",
          "text": [
            "[nltk_data] Downloading package reuters to /root/nltk_data...\n",
            "[nltk_data] Downloading package punkt to /root/nltk_data...\n",
            "[nltk_data]   Unzipping tokenizers/punkt.zip.\n"
          ],
          "name": "stdout"
        }
      ]
    },
    {
      "cell_type": "code",
      "metadata": {
        "id": "AZkZpL7KINZF",
        "colab_type": "code",
        "outputId": "a10e0110-e0a1-4450-90b3-ab6242643933",
        "colab": {
          "base_uri": "https://localhost:8080/",
          "height": 187
        }
      },
      "source": [
        "for w1, w2, w3 in trigrams([\"what\", \"is\", \"the\", \"cat\",\"on\", \"the\",\"table\", \"?\"], pad_right=True, pad_left=True):\n",
        "  print (w1, w2, w3)"
      ],
      "execution_count": 0,
      "outputs": [
        {
          "output_type": "stream",
          "text": [
            "None None what\n",
            "None what is\n",
            "what is the\n",
            "is the cat\n",
            "the cat on\n",
            "cat on the\n",
            "on the table\n",
            "the table ?\n",
            "table ? None\n",
            "? None None\n"
          ],
          "name": "stdout"
        }
      ]
    },
    {
      "cell_type": "code",
      "metadata": {
        "id": "jQ9jSHTQEfJ9",
        "colab_type": "code",
        "colab": {}
      },
      "source": [
        "# Count frequency of co-occurance  \n",
        "for sentence in reuters.sents():\n",
        "    for w1, w2, w3 in trigrams(sentence, pad_right=True, pad_left=True):\n",
        "        model[(w1, w2)][w3] += 1\n",
        " \n",
        "# Let's transform the counts to probabilities\n",
        "for w1_w2 in model:\n",
        "    total_count = float(sum(model[w1_w2].values()))\n",
        "    for w3 in model[w1_w2]:\n",
        "        model[w1_w2][w3] /= total_count"
      ],
      "execution_count": 0,
      "outputs": []
    },
    {
      "cell_type": "code",
      "metadata": {
        "id": "HF8ukr7jGagU",
        "colab_type": "code",
        "outputId": "596278c8-c201-47e7-f4f4-60525ce08bda",
        "colab": {
          "base_uri": "https://localhost:8080/",
          "height": 1000
        }
      },
      "source": [
        "import operator\n",
        "sorted_x = sorted(model[\"the\",\"price\"].items(), key=operator.itemgetter(1),  reverse=True)\n",
        "sorted_x"
      ],
      "execution_count": 0,
      "outputs": [
        {
          "output_type": "execute_result",
          "data": {
            "text/plain": [
              "[('of', 0.3209302325581395),\n",
              " ('it', 0.05581395348837209),\n",
              " ('to', 0.05581395348837209),\n",
              " ('for', 0.05116279069767442),\n",
              " ('.', 0.023255813953488372),\n",
              " ('at', 0.023255813953488372),\n",
              " ('adjustment', 0.023255813953488372),\n",
              " ('is', 0.018604651162790697),\n",
              " (',', 0.018604651162790697),\n",
              " ('paid', 0.013953488372093023),\n",
              " ('increases', 0.013953488372093023),\n",
              " ('per', 0.013953488372093023),\n",
              " ('the', 0.013953488372093023),\n",
              " ('will', 0.013953488372093023),\n",
              " ('cut', 0.009302325581395349),\n",
              " ('cuts', 0.009302325581395349),\n",
              " ('(', 0.009302325581395349),\n",
              " ('differentials', 0.009302325581395349),\n",
              " ('has', 0.009302325581395349),\n",
              " ('stayed', 0.009302325581395349),\n",
              " ('was', 0.009302325581395349),\n",
              " ('freeze', 0.009302325581395349),\n",
              " ('increase', 0.009302325581395349),\n",
              " ('would', 0.009302325581395349),\n",
              " ('yesterday', 0.004651162790697674),\n",
              " ('effect', 0.004651162790697674),\n",
              " ('used', 0.004651162790697674),\n",
              " ('climate', 0.004651162790697674),\n",
              " ('reductions', 0.004651162790697674),\n",
              " ('limit', 0.004651162790697674),\n",
              " ('now', 0.004651162790697674),\n",
              " ('moved', 0.004651162790697674),\n",
              " ('adjustments', 0.004651162790697674),\n",
              " ('slumped', 0.004651162790697674),\n",
              " ('move', 0.004651162790697674),\n",
              " ('evolution', 0.004651162790697674),\n",
              " ('went', 0.004651162790697674),\n",
              " ('factor', 0.004651162790697674),\n",
              " ('Royal', 0.004651162790697674),\n",
              " ('again', 0.004651162790697674),\n",
              " ('changes', 0.004651162790697674),\n",
              " ('holds', 0.004651162790697674),\n",
              " ('fall', 0.004651162790697674),\n",
              " ('-', 0.004651162790697674),\n",
              " ('from', 0.004651162790697674),\n",
              " ('base', 0.004651162790697674),\n",
              " ('on', 0.004651162790697674),\n",
              " ('review', 0.004651162790697674),\n",
              " ('while', 0.004651162790697674),\n",
              " ('collapse', 0.004651162790697674),\n",
              " ('being', 0.004651162790697674),\n",
              " ('outlook', 0.004651162790697674),\n",
              " ('rises', 0.004651162790697674),\n",
              " ('drop', 0.004651162790697674),\n",
              " ('guaranteed', 0.004651162790697674),\n",
              " (',\"', 0.004651162790697674),\n",
              " ('structure', 0.004651162790697674),\n",
              " ('and', 0.004651162790697674),\n",
              " ('could', 0.004651162790697674),\n",
              " ('related', 0.004651162790697674),\n",
              " ('hike', 0.004651162790697674),\n",
              " ('we', 0.004651162790697674),\n",
              " ('policy', 0.004651162790697674),\n",
              " ('revision', 0.004651162790697674),\n",
              " ('led', 0.004651162790697674),\n",
              " ('action', 0.004651162790697674),\n",
              " ('zone', 0.004651162790697674),\n",
              " ('slump', 0.004651162790697674),\n",
              " ('had', 0.004651162790697674),\n",
              " ('difference', 0.004651162790697674),\n",
              " ('in', 0.004651162790697674),\n",
              " ('raise', 0.004651162790697674),\n",
              " ('support', 0.004651162790697674),\n",
              " ('gap', 0.004651162790697674),\n",
              " ('projected', 0.004651162790697674),\n",
              " ('approached', 0.004651162790697674),\n",
              " ('instability', 0.004651162790697674)]"
            ]
          },
          "metadata": {
            "tags": []
          },
          "execution_count": 10
        }
      ]
    },
    {
      "cell_type": "code",
      "metadata": {
        "id": "XCbPw_HyFUa-",
        "colab_type": "code",
        "colab": {}
      },
      "source": [
        "def genSentence(word1, word2):\n",
        "  max_len = 10\n",
        "  sentence = [word1,word2]\n",
        "  for i in range(max_len):\n",
        "    sorted_x = sorted(model[word1,word2].items(), key=operator.itemgetter(1),  reverse=True)\n",
        "    selected_word = sorted_x[0][0]\n",
        "    if selected_word == None:\n",
        "      break\n",
        "    sentence.append(selected_word)\n",
        "    word1 = word2\n",
        "    word2 = selected_word\n",
        "\n",
        "  return sentence"
      ],
      "execution_count": 0,
      "outputs": []
    },
    {
      "cell_type": "code",
      "metadata": {
        "id": "rTSwqza_GJEA",
        "colab_type": "code",
        "outputId": "af8eb6a4-4a2b-473c-d8da-1f4852a6983b",
        "colab": {
          "base_uri": "https://localhost:8080/",
          "height": 221
        }
      },
      "source": [
        "genSentence(\"the\",\"man\")"
      ],
      "execution_count": 0,
      "outputs": [
        {
          "output_type": "execute_result",
          "data": {
            "text/plain": [
              "['the',\n",
              " 'man',\n",
              " 'who',\n",
              " 'has',\n",
              " 'been',\n",
              " 'the',\n",
              " 'subject',\n",
              " 'of',\n",
              " 'takeover',\n",
              " 'speculation',\n",
              " 'for',\n",
              " 'about']"
            ]
          },
          "metadata": {
            "tags": []
          },
          "execution_count": 13
        }
      ]
    }
  ]
}