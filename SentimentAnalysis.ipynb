{
  "nbformat": 4,
  "nbformat_minor": 0,
  "metadata": {
    "colab": {
      "name": "SentimentAnalysis.ipynb",
      "provenance": [],
      "collapsed_sections": [],
      "include_colab_link": true
    },
    "kernelspec": {
      "name": "python3",
      "display_name": "Python 3"
    }
  },
  "cells": [
    {
      "cell_type": "markdown",
      "metadata": {
        "id": "view-in-github",
        "colab_type": "text"
      },
      "source": [
        "<a href=\"https://colab.research.google.com/github/giangdip2410/Learn-NLP/blob/master/SentimentAnalysis.ipynb\" target=\"_parent\"><img src=\"https://colab.research.google.com/assets/colab-badge.svg\" alt=\"Open In Colab\"/></a>"
      ]
    },
    {
      "cell_type": "code",
      "metadata": {
        "id": "2Ex9Jyp6hX-V",
        "colab_type": "code",
        "outputId": "827b828d-b1c8-4b61-8c30-102720573143",
        "colab": {
          "base_uri": "https://localhost:8080/",
          "height": 71
        }
      },
      "source": [
        "# Using the IMDB Moview review dataset provided by Keras\n",
        "from keras.datasets import imdb\n",
        "(x_train, y_train), (x_test, y_test) = imdb.load_data(path=\"imdb.npz\", seed=113)\n",
        "print (x_train.shape, y_train.shape)\n",
        "print (x_train[0], y_train[0])"
      ],
      "execution_count": 0,
      "outputs": [
        {
          "output_type": "stream",
          "text": [
            "(25000,) (25000,)\n",
            "[1, 14, 22, 16, 43, 530, 973, 1622, 1385, 65, 458, 4468, 66, 3941, 4, 173, 36, 256, 5, 25, 100, 43, 838, 112, 50, 670, 22665, 9, 35, 480, 284, 5, 150, 4, 172, 112, 167, 21631, 336, 385, 39, 4, 172, 4536, 1111, 17, 546, 38, 13, 447, 4, 192, 50, 16, 6, 147, 2025, 19, 14, 22, 4, 1920, 4613, 469, 4, 22, 71, 87, 12, 16, 43, 530, 38, 76, 15, 13, 1247, 4, 22, 17, 515, 17, 12, 16, 626, 18, 19193, 5, 62, 386, 12, 8, 316, 8, 106, 5, 4, 2223, 5244, 16, 480, 66, 3785, 33, 4, 130, 12, 16, 38, 619, 5, 25, 124, 51, 36, 135, 48, 25, 1415, 33, 6, 22, 12, 215, 28, 77, 52, 5, 14, 407, 16, 82, 10311, 8, 4, 107, 117, 5952, 15, 256, 4, 31050, 7, 3766, 5, 723, 36, 71, 43, 530, 476, 26, 400, 317, 46, 7, 4, 12118, 1029, 13, 104, 88, 4, 381, 15, 297, 98, 32, 2071, 56, 26, 141, 6, 194, 7486, 18, 4, 226, 22, 21, 134, 476, 26, 480, 5, 144, 30, 5535, 18, 51, 36, 28, 224, 92, 25, 104, 4, 226, 65, 16, 38, 1334, 88, 12, 16, 283, 5, 16, 4472, 113, 103, 32, 15, 16, 5345, 19, 178, 32] 1\n"
          ],
          "name": "stdout"
        }
      ]
    },
    {
      "cell_type": "code",
      "metadata": {
        "id": "xQX_fV1ns7Xj",
        "colab_type": "code",
        "outputId": "e36efa4e-5d8a-499d-f220-cc8166247ca0",
        "colab": {
          "base_uri": "https://localhost:8080/",
          "height": 50
        }
      },
      "source": [
        "#Unzip dataset\n",
        "!unzip IMDB\\ Dataset.csv.zip"
      ],
      "execution_count": 0,
      "outputs": [
        {
          "output_type": "stream",
          "text": [
            "Archive:  IMDB Dataset.csv.zip\n",
            "  inflating: IMDB Dataset.csv        \n"
          ],
          "name": "stdout"
        }
      ]
    },
    {
      "cell_type": "code",
      "metadata": {
        "id": "PG1r8gJGtCNr",
        "colab_type": "code",
        "colab": {}
      },
      "source": [
        "import pandas as pd\n",
        "data_pd = pd.read_csv(\"IMDB Dataset.csv\")"
      ],
      "execution_count": 0,
      "outputs": []
    },
    {
      "cell_type": "code",
      "metadata": {
        "id": "2kk1n099tfXw",
        "colab_type": "code",
        "outputId": "1c439047-0e96-4b81-e6c2-2ac186bbe0f9",
        "colab": {
          "base_uri": "https://localhost:8080/",
          "height": 204
        }
      },
      "source": [
        "data_pd.head()"
      ],
      "execution_count": 0,
      "outputs": [
        {
          "output_type": "execute_result",
          "data": {
            "text/html": [
              "<div>\n",
              "<style scoped>\n",
              "    .dataframe tbody tr th:only-of-type {\n",
              "        vertical-align: middle;\n",
              "    }\n",
              "\n",
              "    .dataframe tbody tr th {\n",
              "        vertical-align: top;\n",
              "    }\n",
              "\n",
              "    .dataframe thead th {\n",
              "        text-align: right;\n",
              "    }\n",
              "</style>\n",
              "<table border=\"1\" class=\"dataframe\">\n",
              "  <thead>\n",
              "    <tr style=\"text-align: right;\">\n",
              "      <th></th>\n",
              "      <th>review</th>\n",
              "      <th>sentiment</th>\n",
              "    </tr>\n",
              "  </thead>\n",
              "  <tbody>\n",
              "    <tr>\n",
              "      <th>0</th>\n",
              "      <td>One of the other reviewers has mentioned that ...</td>\n",
              "      <td>positive</td>\n",
              "    </tr>\n",
              "    <tr>\n",
              "      <th>1</th>\n",
              "      <td>A wonderful little production. &lt;br /&gt;&lt;br /&gt;The...</td>\n",
              "      <td>positive</td>\n",
              "    </tr>\n",
              "    <tr>\n",
              "      <th>2</th>\n",
              "      <td>I thought this was a wonderful way to spend ti...</td>\n",
              "      <td>positive</td>\n",
              "    </tr>\n",
              "    <tr>\n",
              "      <th>3</th>\n",
              "      <td>Basically there's a family where a little boy ...</td>\n",
              "      <td>negative</td>\n",
              "    </tr>\n",
              "    <tr>\n",
              "      <th>4</th>\n",
              "      <td>Petter Mattei's \"Love in the Time of Money\" is...</td>\n",
              "      <td>positive</td>\n",
              "    </tr>\n",
              "  </tbody>\n",
              "</table>\n",
              "</div>"
            ],
            "text/plain": [
              "                                              review sentiment\n",
              "0  One of the other reviewers has mentioned that ...  positive\n",
              "1  A wonderful little production. <br /><br />The...  positive\n",
              "2  I thought this was a wonderful way to spend ti...  positive\n",
              "3  Basically there's a family where a little boy ...  negative\n",
              "4  Petter Mattei's \"Love in the Time of Money\" is...  positive"
            ]
          },
          "metadata": {
            "tags": []
          },
          "execution_count": 10
        }
      ]
    },
    {
      "cell_type": "code",
      "metadata": {
        "id": "FqQqtRbqtuKo",
        "colab_type": "code",
        "outputId": "0c322394-ec3d-493d-ac7c-3e14d87d47a0",
        "colab": {
          "base_uri": "https://localhost:8080/",
          "height": 34
        }
      },
      "source": [
        "from keras.preprocessing.text import text_to_word_sequence\n",
        "#Using emotional dictionary\n",
        "positive_words = [\"good\", \"nice\", \"great\", \"interesting\", \"like\", \"wonderful\",\"best\",\"love\"]\n",
        "count_correct = 0\n",
        "for review,sentiment in data_pd.values:\n",
        "  words = text_to_word_sequence(review)\n",
        "  result = \"negative\"\n",
        "  for word in words:\n",
        "    if word in positive_words:\n",
        "      result = \"positive\"\n",
        "  if sentiment == result:\n",
        "    count_correct+=1\n",
        "    \n",
        "\n",
        "print(\"Acc:\",count_correct/len(data_pd))"
      ],
      "execution_count": 0,
      "outputs": [
        {
          "output_type": "stream",
          "text": [
            "Acc: 0.5331\n"
          ],
          "name": "stdout"
        }
      ]
    },
    {
      "cell_type": "code",
      "metadata": {
        "id": "ptg3s-5BzoQV",
        "colab_type": "code",
        "colab": {}
      },
      "source": [
        "#Using bag of word vectors\n",
        "from sklearn.feature_extraction.text import CountVectorizer\n",
        "vectorizer = CountVectorizer()\n",
        "X = vectorizer.fit_transform(data_pd[\"review\"].values)"
      ],
      "execution_count": 0,
      "outputs": []
    },
    {
      "cell_type": "code",
      "metadata": {
        "id": "eCw-NR-v0nxC",
        "colab_type": "code",
        "outputId": "785f45ad-e65d-4b4d-cb4c-4514c119891d",
        "colab": {
          "base_uri": "https://localhost:8080/",
          "height": 34
        }
      },
      "source": [
        "len(vectorizer.get_feature_names())"
      ],
      "execution_count": 0,
      "outputs": [
        {
          "output_type": "execute_result",
          "data": {
            "text/plain": [
              "101895"
            ]
          },
          "metadata": {
            "tags": []
          },
          "execution_count": 32
        }
      ]
    },
    {
      "cell_type": "code",
      "metadata": {
        "id": "5fJW4umE1AH4",
        "colab_type": "code",
        "outputId": "5241dcf9-89e4-41f3-d18e-9eed88aeb5cb",
        "colab": {
          "base_uri": "https://localhost:8080/",
          "height": 136
        }
      },
      "source": [
        "vectorizer = CountVectorizer(max_features=200)\n",
        "X = vectorizer.fit_transform(data_pd[\"review\"].values)\n",
        "X.toarray()"
      ],
      "execution_count": 0,
      "outputs": [
        {
          "output_type": "execute_result",
          "data": {
            "text/plain": [
              "array([[0, 1, 0, ..., 3, 0, 1],\n",
              "       [0, 1, 0, ..., 1, 0, 0],\n",
              "       [0, 0, 0, ..., 0, 1, 0],\n",
              "       ...,\n",
              "       [0, 0, 1, ..., 0, 0, 0],\n",
              "       [0, 2, 0, ..., 1, 0, 0],\n",
              "       [0, 1, 0, ..., 1, 0, 0]])"
            ]
          },
          "metadata": {
            "tags": []
          },
          "execution_count": 14
        }
      ]
    },
    {
      "cell_type": "code",
      "metadata": {
        "id": "LHp02BFs2FJy",
        "colab_type": "code",
        "outputId": "0f43a114-9edf-411d-8dab-a3cd9223996f",
        "colab": {
          "base_uri": "https://localhost:8080/",
          "height": 204
        }
      },
      "source": [
        "data_pd[\"label\"] = data_pd[\"sentiment\"].map({'positive': 1, 'negative': 0})\n",
        "data_pd.head()"
      ],
      "execution_count": 0,
      "outputs": [
        {
          "output_type": "execute_result",
          "data": {
            "text/html": [
              "<div>\n",
              "<style scoped>\n",
              "    .dataframe tbody tr th:only-of-type {\n",
              "        vertical-align: middle;\n",
              "    }\n",
              "\n",
              "    .dataframe tbody tr th {\n",
              "        vertical-align: top;\n",
              "    }\n",
              "\n",
              "    .dataframe thead th {\n",
              "        text-align: right;\n",
              "    }\n",
              "</style>\n",
              "<table border=\"1\" class=\"dataframe\">\n",
              "  <thead>\n",
              "    <tr style=\"text-align: right;\">\n",
              "      <th></th>\n",
              "      <th>review</th>\n",
              "      <th>sentiment</th>\n",
              "      <th>label</th>\n",
              "    </tr>\n",
              "  </thead>\n",
              "  <tbody>\n",
              "    <tr>\n",
              "      <th>0</th>\n",
              "      <td>One of the other reviewers has mentioned that ...</td>\n",
              "      <td>positive</td>\n",
              "      <td>1</td>\n",
              "    </tr>\n",
              "    <tr>\n",
              "      <th>1</th>\n",
              "      <td>A wonderful little production. &lt;br /&gt;&lt;br /&gt;The...</td>\n",
              "      <td>positive</td>\n",
              "      <td>1</td>\n",
              "    </tr>\n",
              "    <tr>\n",
              "      <th>2</th>\n",
              "      <td>I thought this was a wonderful way to spend ti...</td>\n",
              "      <td>positive</td>\n",
              "      <td>1</td>\n",
              "    </tr>\n",
              "    <tr>\n",
              "      <th>3</th>\n",
              "      <td>Basically there's a family where a little boy ...</td>\n",
              "      <td>negative</td>\n",
              "      <td>0</td>\n",
              "    </tr>\n",
              "    <tr>\n",
              "      <th>4</th>\n",
              "      <td>Petter Mattei's \"Love in the Time of Money\" is...</td>\n",
              "      <td>positive</td>\n",
              "      <td>1</td>\n",
              "    </tr>\n",
              "  </tbody>\n",
              "</table>\n",
              "</div>"
            ],
            "text/plain": [
              "                                              review sentiment  label\n",
              "0  One of the other reviewers has mentioned that ...  positive      1\n",
              "1  A wonderful little production. <br /><br />The...  positive      1\n",
              "2  I thought this was a wonderful way to spend ti...  positive      1\n",
              "3  Basically there's a family where a little boy ...  negative      0\n",
              "4  Petter Mattei's \"Love in the Time of Money\" is...  positive      1"
            ]
          },
          "metadata": {
            "tags": []
          },
          "execution_count": 13
        }
      ]
    },
    {
      "cell_type": "code",
      "metadata": {
        "id": "ECm72uy62k77",
        "colab_type": "code",
        "colab": {}
      },
      "source": [
        "y = data_pd[\"label\"].values"
      ],
      "execution_count": 0,
      "outputs": []
    },
    {
      "cell_type": "code",
      "metadata": {
        "id": "i4MTvJnR2vXQ",
        "colab_type": "code",
        "outputId": "5e8c42ef-88c3-406c-aed4-bce08c58b76f",
        "colab": {
          "base_uri": "https://localhost:8080/",
          "height": 68
        }
      },
      "source": [
        "from sklearn.model_selection import train_test_split\n",
        "X_train, X_test, y_train, y_test = train_test_split(X, y, test_size=0.7, random_state=42, stratify=y)\n",
        "\n",
        "import numpy as np\n",
        "\n",
        "print (np.sum(y)/len(y))\n",
        "print (np.sum(y_train)/len(y_train))\n",
        "\n",
        "print (X_train.shape,X_test.shape)"
      ],
      "execution_count": 0,
      "outputs": [
        {
          "output_type": "stream",
          "text": [
            "0.5\n",
            "0.5\n",
            "(15000, 200) (35000, 200)\n"
          ],
          "name": "stdout"
        }
      ]
    },
    {
      "cell_type": "code",
      "metadata": {
        "id": "7G1x5-vO4qCt",
        "colab_type": "code",
        "outputId": "9cdbd2df-560c-43b9-9cb6-3317b6b9f0f4",
        "colab": {
          "base_uri": "https://localhost:8080/",
          "height": 85
        }
      },
      "source": [
        "from sklearn import svm\n",
        "clf = svm.SVC(gamma='scale')\n",
        "clf.fit(X_train,y_train) \n",
        "\n",
        "#Training dense \n"
      ],
      "execution_count": 0,
      "outputs": [
        {
          "output_type": "execute_result",
          "data": {
            "text/plain": [
              "SVC(C=1.0, cache_size=200, class_weight=None, coef0=0.0,\n",
              "    decision_function_shape='ovr', degree=3, gamma='scale', kernel='rbf',\n",
              "    max_iter=-1, probability=False, random_state=None, shrinking=True,\n",
              "    tol=0.001, verbose=False)"
            ]
          },
          "metadata": {
            "tags": []
          },
          "execution_count": 19
        }
      ]
    },
    {
      "cell_type": "code",
      "metadata": {
        "id": "nYPblB9X5wjD",
        "colab_type": "code",
        "colab": {}
      },
      "source": [
        "y_test_predict = clf.predict(X_test)\n"
      ],
      "execution_count": 0,
      "outputs": []
    },
    {
      "cell_type": "code",
      "metadata": {
        "id": "w-2s0Pf7CXtJ",
        "colab_type": "code",
        "outputId": "8102e372-68fc-429e-a73f-ff075f3059ef",
        "colab": {
          "base_uri": "https://localhost:8080/",
          "height": 34
        }
      },
      "source": [
        "\n",
        "print(\"Acc:\",(1 - np.sum(np.abs(y_test_predict- y_test))/len(y_test_predict)))"
      ],
      "execution_count": 0,
      "outputs": [
        {
          "output_type": "stream",
          "text": [
            "Acc: 0.7626\n"
          ],
          "name": "stdout"
        }
      ]
    },
    {
      "cell_type": "code",
      "metadata": {
        "id": "rJmF4RXJGIqp",
        "colab_type": "code",
        "outputId": "2d119881-e8d4-4d92-b143-7ad528d3de41",
        "colab": {
          "base_uri": "https://localhost:8080/",
          "height": 1000
        }
      },
      "source": [
        "#using n-gram\n",
        "vectorizer = CountVectorizer(max_features=200,ngram_range=(1,2),stop_words=[\"the\",\"that\"])\n",
        "X = vectorizer.fit_transform(data_pd[\"review\"].values)\n",
        "vectorizer.get_feature_names()\n"
      ],
      "execution_count": 0,
      "outputs": [
        {
          "output_type": "execute_result",
          "data": {
            "text/plain": [
              "['10',\n",
              " 'about',\n",
              " 'acting',\n",
              " 'actors',\n",
              " 'actually',\n",
              " 'after',\n",
              " 'again',\n",
              " 'all',\n",
              " 'also',\n",
              " 'an',\n",
              " 'and',\n",
              " 'and it',\n",
              " 'another',\n",
              " 'any',\n",
              " 'are',\n",
              " 'around',\n",
              " 'as',\n",
              " 'at',\n",
              " 'back',\n",
              " 'bad',\n",
              " 'be',\n",
              " 'because',\n",
              " 'been',\n",
              " 'before',\n",
              " 'being',\n",
              " 'best',\n",
              " 'better',\n",
              " 'br',\n",
              " 'br br',\n",
              " 'but',\n",
              " 'but it',\n",
              " 'by',\n",
              " 'can',\n",
              " 'cast',\n",
              " 'character',\n",
              " 'characters',\n",
              " 'could',\n",
              " 'did',\n",
              " 'didn',\n",
              " 'director',\n",
              " 'do',\n",
              " 'does',\n",
              " 'doesn',\n",
              " 'don',\n",
              " 'down',\n",
              " 'end',\n",
              " 'even',\n",
              " 'ever',\n",
              " 'every',\n",
              " 'few',\n",
              " 'film',\n",
              " 'film is',\n",
              " 'films',\n",
              " 'find',\n",
              " 'first',\n",
              " 'for',\n",
              " 'from',\n",
              " 'funny',\n",
              " 'get',\n",
              " 'go',\n",
              " 'going',\n",
              " 'good',\n",
              " 'great',\n",
              " 'had',\n",
              " 'has',\n",
              " 'have',\n",
              " 'have been',\n",
              " 'he',\n",
              " 'her',\n",
              " 'here',\n",
              " 'him',\n",
              " 'his',\n",
              " 'horror',\n",
              " 'how',\n",
              " 'if',\n",
              " 'if you',\n",
              " 'in',\n",
              " 'in this',\n",
              " 'into',\n",
              " 'is',\n",
              " 'is not',\n",
              " 'it',\n",
              " 'it is',\n",
              " 'it was',\n",
              " 'its',\n",
              " 'just',\n",
              " 'know',\n",
              " 'life',\n",
              " 'like',\n",
              " 'little',\n",
              " 'look',\n",
              " 'lot',\n",
              " 'love',\n",
              " 'made',\n",
              " 'make',\n",
              " 'makes',\n",
              " 'man',\n",
              " 'many',\n",
              " 'me',\n",
              " 'more',\n",
              " 'most',\n",
              " 'movie',\n",
              " 'movie is',\n",
              " 'movies',\n",
              " 'much',\n",
              " 'my',\n",
              " 'never',\n",
              " 'new',\n",
              " 'no',\n",
              " 'not',\n",
              " 'nothing',\n",
              " 'now',\n",
              " 'of',\n",
              " 'of this',\n",
              " 'off',\n",
              " 'old',\n",
              " 'on',\n",
              " 'one',\n",
              " 'one of',\n",
              " 'only',\n",
              " 'or',\n",
              " 'other',\n",
              " 'out',\n",
              " 'out of',\n",
              " 'over',\n",
              " 'part',\n",
              " 'people',\n",
              " 'plot',\n",
              " 'pretty',\n",
              " 'quite',\n",
              " 're',\n",
              " 'real',\n",
              " 'really',\n",
              " 'same',\n",
              " 'say',\n",
              " 'scene',\n",
              " 'scenes',\n",
              " 'see',\n",
              " 'seen',\n",
              " 'she',\n",
              " 'should',\n",
              " 'show',\n",
              " 'so',\n",
              " 'some',\n",
              " 'something',\n",
              " 'still',\n",
              " 'story',\n",
              " 'such',\n",
              " 'than',\n",
              " 'their',\n",
              " 'them',\n",
              " 'then',\n",
              " 'there',\n",
              " 'there are',\n",
              " 'there is',\n",
              " 'these',\n",
              " 'they',\n",
              " 'thing',\n",
              " 'things',\n",
              " 'think',\n",
              " 'this',\n",
              " 'this film',\n",
              " 'this is',\n",
              " 'this movie',\n",
              " 'those',\n",
              " 'though',\n",
              " 'through',\n",
              " 'time',\n",
              " 'to',\n",
              " 'to be',\n",
              " 'to see',\n",
              " 'too',\n",
              " 'two',\n",
              " 'up',\n",
              " 'us',\n",
              " 've',\n",
              " 'very',\n",
              " 'want',\n",
              " 'was',\n",
              " 'watch',\n",
              " 'watching',\n",
              " 'way',\n",
              " 'we',\n",
              " 'well',\n",
              " 'were',\n",
              " 'what',\n",
              " 'when',\n",
              " 'where',\n",
              " 'which',\n",
              " 'while',\n",
              " 'who',\n",
              " 'why',\n",
              " 'will',\n",
              " 'with',\n",
              " 'work',\n",
              " 'world',\n",
              " 'would',\n",
              " 'years',\n",
              " 'you',\n",
              " 'your']"
            ]
          },
          "metadata": {
            "tags": []
          },
          "execution_count": 31
        }
      ]
    }
  ]
}