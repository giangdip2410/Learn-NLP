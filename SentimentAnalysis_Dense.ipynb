{
  "nbformat": 4,
  "nbformat_minor": 0,
  "metadata": {
    "colab": {
      "name": "SentimentAnalysis-Dense.ipynb",
      "provenance": [],
      "collapsed_sections": [],
      "include_colab_link": true
    },
    "kernelspec": {
      "name": "python3",
      "display_name": "Python 3"
    }
  },
  "cells": [
    {
      "cell_type": "markdown",
      "metadata": {
        "id": "view-in-github",
        "colab_type": "text"
      },
      "source": [
        "<a href=\"https://colab.research.google.com/github/giangdip2410/Learn-NLP/blob/master/SentimentAnalysis_Dense.ipynb\" target=\"_parent\"><img src=\"https://colab.research.google.com/assets/colab-badge.svg\" alt=\"Open In Colab\"/></a>"
      ]
    },
    {
      "cell_type": "code",
      "metadata": {
        "id": "VyDGL3gwwoeh",
        "colab_type": "code",
        "outputId": "6e3f2a22-5936-4560-8c23-2eaeb9a1062d",
        "colab": {
          "base_uri": "https://localhost:8080/",
          "height": 122
        }
      },
      "source": [
        "from google.colab import drive\n",
        "drive.mount('/content/drive')"
      ],
      "execution_count": 0,
      "outputs": [
        {
          "output_type": "stream",
          "text": [
            "Go to this URL in a browser: https://accounts.google.com/o/oauth2/auth?client_id=947318989803-6bn6qk8qdgf4n4g3pfee6491hc0brc4i.apps.googleusercontent.com&redirect_uri=urn%3aietf%3awg%3aoauth%3a2.0%3aoob&response_type=code&scope=email%20https%3a%2f%2fwww.googleapis.com%2fauth%2fdocs.test%20https%3a%2f%2fwww.googleapis.com%2fauth%2fdrive%20https%3a%2f%2fwww.googleapis.com%2fauth%2fdrive.photos.readonly%20https%3a%2f%2fwww.googleapis.com%2fauth%2fpeopleapi.readonly\n",
            "\n",
            "Enter your authorization code:\n",
            "··········\n",
            "Mounted at /content/drive\n"
          ],
          "name": "stdout"
        }
      ]
    },
    {
      "cell_type": "code",
      "metadata": {
        "id": "U8iHUzC6w6Ej",
        "colab_type": "code",
        "outputId": "c8de9064-e6f2-46fb-c292-d0e2a244112e",
        "colab": {
          "base_uri": "https://localhost:8080/",
          "height": 67
        }
      },
      "source": [
        "!unzip \"/content/drive/My Drive/SyncPC/Deep learning/IMDB Dataset.csv.zip\" "
      ],
      "execution_count": 0,
      "outputs": [
        {
          "output_type": "stream",
          "text": [
            "Archive:  /content/drive/My Drive/SyncPC/Deep learning/IMDB Dataset.csv.zip\n",
            "replace IMDB Dataset.csv? [y]es, [n]o, [A]ll, [N]one, [r]ename: y\n",
            "  inflating: IMDB Dataset.csv        \n"
          ],
          "name": "stdout"
        }
      ]
    },
    {
      "cell_type": "code",
      "metadata": {
        "id": "XspkSNSCxFJ-",
        "colab_type": "code",
        "colab": {}
      },
      "source": [
        "import pandas as pd\n",
        "data_pd = pd.read_csv(\"IMDB Dataset.csv\")"
      ],
      "execution_count": 0,
      "outputs": []
    },
    {
      "cell_type": "code",
      "metadata": {
        "id": "jqAzdVknxVuJ",
        "colab_type": "code",
        "colab": {}
      },
      "source": [
        "#Using bag of word vectors\n",
        "from sklearn.feature_extraction.text import CountVectorizer\n",
        "vectorizer = CountVectorizer(max_features=200)#,ngram_range=(1,2),stop_words=[\"the\",\"that\"])\n",
        "X = vectorizer.fit_transform(data_pd[\"review\"].values)\n",
        "X = X.toarray()"
      ],
      "execution_count": 0,
      "outputs": []
    },
    {
      "cell_type": "code",
      "metadata": {
        "id": "4gBuKE8XxqC1",
        "colab_type": "code",
        "colab": {}
      },
      "source": [
        "data_pd[\"label\"] = data_pd[\"sentiment\"].map({'positive': 1, 'negative': 0})\n",
        "data_pd.head()\n",
        "y = data_pd[\"label\"].values"
      ],
      "execution_count": 0,
      "outputs": []
    },
    {
      "cell_type": "code",
      "metadata": {
        "id": "ud7AT4Pixt58",
        "colab_type": "code",
        "outputId": "c12df0b9-d9ff-4cd4-ff34-4a3a248de29a",
        "colab": {
          "base_uri": "https://localhost:8080/",
          "height": 34
        }
      },
      "source": [
        "from sklearn.model_selection import train_test_split\n",
        "X_train, X_test, y_train, y_test = train_test_split(X, y, test_size=0.5, random_state=42, stratify=y)\n",
        "\n",
        "X_train, X_val, y_train, y_val = train_test_split(X_train, y_train, test_size=0.2, random_state=42, stratify=y_train)\n",
        "\n",
        "\n",
        "print (X_train.shape,X_test.shape, X_val.shape)"
      ],
      "execution_count": 0,
      "outputs": [
        {
          "output_type": "stream",
          "text": [
            "(20000, 200) (25000, 200) (5000, 200)\n"
          ],
          "name": "stdout"
        }
      ]
    },
    {
      "cell_type": "code",
      "metadata": {
        "id": "gB1VV_pRx5yH",
        "colab_type": "code",
        "outputId": "44308fe3-aecc-4f67-f9c8-f38368c8fa53",
        "colab": {
          "base_uri": "https://localhost:8080/",
          "height": 1000
        }
      },
      "source": [
        "from keras.layers import *\n",
        "from keras.models import Model\n",
        "from keras.callbacks import ModelCheckpoint\n",
        "\n",
        "\n",
        "input_layer = Input(shape=(200,))\n",
        "dense_layer = Dense(1, activation=\"sigmoid\")(input_layer)\n",
        "\n",
        "model = Model(inputs=input_layer, outputs=dense_layer)\n",
        "model.compile(loss='binary_crossentropy', optimizer=\"adam\",metrics=[\"accuracy\"])\n",
        "mc = ModelCheckpoint(\"best_checkpoint.h5\", monitor=\"val_acc\" , save_best_only=True, save_weights_only=True)\n",
        "\n",
        "model.fit(X_train,y_train,validation_data=(X_val,y_val), epochs= 20, batch_size=20, callbacks=[mc])"
      ],
      "execution_count": 0,
      "outputs": [
        {
          "output_type": "stream",
          "text": [
            "Using TensorFlow backend.\n"
          ],
          "name": "stderr"
        },
        {
          "output_type": "display_data",
          "data": {
            "text/html": [
              "<p style=\"color: red;\">\n",
              "The default version of TensorFlow in Colab will soon switch to TensorFlow 2.x.<br>\n",
              "We recommend you <a href=\"https://www.tensorflow.org/guide/migrate\" target=\"_blank\">upgrade</a> now \n",
              "or ensure your notebook will continue to use TensorFlow 1.x via the <code>%tensorflow_version 1.x</code> magic:\n",
              "<a href=\"https://colab.research.google.com/notebooks/tensorflow_version.ipynb\" target=\"_blank\">more info</a>.</p>\n"
            ],
            "text/plain": [
              "<IPython.core.display.HTML object>"
            ]
          },
          "metadata": {
            "tags": []
          }
        },
        {
          "output_type": "stream",
          "text": [
            "WARNING:tensorflow:From /usr/local/lib/python3.6/dist-packages/keras/backend/tensorflow_backend.py:66: The name tf.get_default_graph is deprecated. Please use tf.compat.v1.get_default_graph instead.\n",
            "\n",
            "WARNING:tensorflow:From /usr/local/lib/python3.6/dist-packages/keras/backend/tensorflow_backend.py:541: The name tf.placeholder is deprecated. Please use tf.compat.v1.placeholder instead.\n",
            "\n",
            "WARNING:tensorflow:From /usr/local/lib/python3.6/dist-packages/keras/backend/tensorflow_backend.py:4432: The name tf.random_uniform is deprecated. Please use tf.random.uniform instead.\n",
            "\n",
            "WARNING:tensorflow:From /usr/local/lib/python3.6/dist-packages/keras/optimizers.py:793: The name tf.train.Optimizer is deprecated. Please use tf.compat.v1.train.Optimizer instead.\n",
            "\n",
            "WARNING:tensorflow:From /usr/local/lib/python3.6/dist-packages/keras/backend/tensorflow_backend.py:3657: The name tf.log is deprecated. Please use tf.math.log instead.\n",
            "\n",
            "WARNING:tensorflow:From /usr/local/lib/python3.6/dist-packages/tensorflow_core/python/ops/nn_impl.py:183: where (from tensorflow.python.ops.array_ops) is deprecated and will be removed in a future version.\n",
            "Instructions for updating:\n",
            "Use tf.where in 2.0, which has the same broadcast rule as np.where\n",
            "WARNING:tensorflow:From /usr/local/lib/python3.6/dist-packages/keras/backend/tensorflow_backend.py:1033: The name tf.assign_add is deprecated. Please use tf.compat.v1.assign_add instead.\n",
            "\n",
            "WARNING:tensorflow:From /usr/local/lib/python3.6/dist-packages/keras/backend/tensorflow_backend.py:1020: The name tf.assign is deprecated. Please use tf.compat.v1.assign instead.\n",
            "\n",
            "WARNING:tensorflow:From /usr/local/lib/python3.6/dist-packages/keras/backend/tensorflow_backend.py:3005: The name tf.Session is deprecated. Please use tf.compat.v1.Session instead.\n",
            "\n",
            "Train on 20000 samples, validate on 5000 samples\n",
            "Epoch 1/20\n",
            "WARNING:tensorflow:From /usr/local/lib/python3.6/dist-packages/keras/backend/tensorflow_backend.py:190: The name tf.get_default_session is deprecated. Please use tf.compat.v1.get_default_session instead.\n",
            "\n",
            "WARNING:tensorflow:From /usr/local/lib/python3.6/dist-packages/keras/backend/tensorflow_backend.py:197: The name tf.ConfigProto is deprecated. Please use tf.compat.v1.ConfigProto instead.\n",
            "\n",
            "WARNING:tensorflow:From /usr/local/lib/python3.6/dist-packages/keras/backend/tensorflow_backend.py:207: The name tf.global_variables is deprecated. Please use tf.compat.v1.global_variables instead.\n",
            "\n",
            "WARNING:tensorflow:From /usr/local/lib/python3.6/dist-packages/keras/backend/tensorflow_backend.py:216: The name tf.is_variable_initialized is deprecated. Please use tf.compat.v1.is_variable_initialized instead.\n",
            "\n",
            "WARNING:tensorflow:From /usr/local/lib/python3.6/dist-packages/keras/backend/tensorflow_backend.py:223: The name tf.variables_initializer is deprecated. Please use tf.compat.v1.variables_initializer instead.\n",
            "\n",
            "20000/20000 [==============================] - 1s 69us/step - loss: 0.6219 - acc: 0.6748 - val_loss: 0.5319 - val_acc: 0.7448\n",
            "Epoch 2/20\n",
            "20000/20000 [==============================] - 1s 63us/step - loss: 0.5076 - acc: 0.7577 - val_loss: 0.5041 - val_acc: 0.7602\n",
            "Epoch 3/20\n",
            "20000/20000 [==============================] - 1s 67us/step - loss: 0.4924 - acc: 0.7686 - val_loss: 0.5085 - val_acc: 0.7624\n",
            "Epoch 4/20\n",
            "20000/20000 [==============================] - 1s 64us/step - loss: 0.4890 - acc: 0.7687 - val_loss: 0.5085 - val_acc: 0.7608\n",
            "Epoch 5/20\n",
            "20000/20000 [==============================] - 1s 69us/step - loss: 0.4885 - acc: 0.7689 - val_loss: 0.5007 - val_acc: 0.7606\n",
            "Epoch 6/20\n",
            "20000/20000 [==============================] - 1s 64us/step - loss: 0.4881 - acc: 0.7710 - val_loss: 0.5000 - val_acc: 0.7618\n",
            "Epoch 7/20\n",
            "20000/20000 [==============================] - 1s 64us/step - loss: 0.4884 - acc: 0.7701 - val_loss: 0.5000 - val_acc: 0.7600\n",
            "Epoch 8/20\n",
            "20000/20000 [==============================] - 1s 66us/step - loss: 0.4883 - acc: 0.7708 - val_loss: 0.5028 - val_acc: 0.7586\n",
            "Epoch 9/20\n",
            "20000/20000 [==============================] - 1s 64us/step - loss: 0.4883 - acc: 0.7691 - val_loss: 0.5076 - val_acc: 0.7600\n",
            "Epoch 10/20\n",
            "20000/20000 [==============================] - 1s 62us/step - loss: 0.4885 - acc: 0.7700 - val_loss: 0.5012 - val_acc: 0.7590\n",
            "Epoch 11/20\n",
            "20000/20000 [==============================] - 1s 61us/step - loss: 0.4883 - acc: 0.7707 - val_loss: 0.5013 - val_acc: 0.7600\n",
            "Epoch 12/20\n",
            "20000/20000 [==============================] - 1s 60us/step - loss: 0.4883 - acc: 0.7709 - val_loss: 0.5007 - val_acc: 0.7608\n",
            "Epoch 13/20\n",
            "20000/20000 [==============================] - 1s 60us/step - loss: 0.4886 - acc: 0.7699 - val_loss: 0.5008 - val_acc: 0.7588\n",
            "Epoch 14/20\n",
            "20000/20000 [==============================] - 1s 62us/step - loss: 0.4881 - acc: 0.7710 - val_loss: 0.5060 - val_acc: 0.7568\n",
            "Epoch 15/20\n",
            "20000/20000 [==============================] - 1s 62us/step - loss: 0.4887 - acc: 0.7701 - val_loss: 0.5007 - val_acc: 0.7600\n",
            "Epoch 16/20\n",
            "20000/20000 [==============================] - 1s 61us/step - loss: 0.4876 - acc: 0.7710 - val_loss: 0.5061 - val_acc: 0.7560\n",
            "Epoch 17/20\n",
            "20000/20000 [==============================] - 1s 63us/step - loss: 0.4883 - acc: 0.7695 - val_loss: 0.5022 - val_acc: 0.7616\n",
            "Epoch 18/20\n",
            "20000/20000 [==============================] - 1s 61us/step - loss: 0.4881 - acc: 0.7684 - val_loss: 0.5023 - val_acc: 0.7614\n",
            "Epoch 19/20\n",
            "20000/20000 [==============================] - 1s 64us/step - loss: 0.4884 - acc: 0.7709 - val_loss: 0.5004 - val_acc: 0.7584\n",
            "Epoch 20/20\n",
            "20000/20000 [==============================] - 1s 68us/step - loss: 0.4880 - acc: 0.7713 - val_loss: 0.5008 - val_acc: 0.7604\n"
          ],
          "name": "stdout"
        },
        {
          "output_type": "execute_result",
          "data": {
            "text/plain": [
              "<keras.callbacks.History at 0x7f19c17bff28>"
            ]
          },
          "metadata": {
            "tags": []
          },
          "execution_count": 7
        }
      ]
    },
    {
      "cell_type": "code",
      "metadata": {
        "id": "qrfLLnvB1eLL",
        "colab_type": "code",
        "colab": {}
      },
      "source": [
        "model.load_weights(\"best_checkpoint.h5\")"
      ],
      "execution_count": 0,
      "outputs": []
    },
    {
      "cell_type": "code",
      "metadata": {
        "id": "TMR5vH9B1jjM",
        "colab_type": "code",
        "colab": {}
      },
      "source": [
        "y_test_pred = model.predict(X_test)\n",
        "y_test_pred = [1 if pred > 0.5 else 0 for pred in y_test_pred ]"
      ],
      "execution_count": 0,
      "outputs": []
    },
    {
      "cell_type": "code",
      "metadata": {
        "id": "mps8M9hv1wvA",
        "colab_type": "code",
        "outputId": "e2a78544-14dc-439e-808b-12e242e76344",
        "colab": {
          "base_uri": "https://localhost:8080/",
          "height": 34
        }
      },
      "source": [
        "import numpy as np\n",
        "print(\"Acc:\",(1 - np.sum(np.abs(y_test_pred- y_test))/len(y_test_pred)))"
      ],
      "execution_count": 0,
      "outputs": [
        {
          "output_type": "stream",
          "text": [
            "Acc: 0.76032\n"
          ],
          "name": "stdout"
        }
      ]
    }
  ]
}